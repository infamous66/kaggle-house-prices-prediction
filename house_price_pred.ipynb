{
 "cells": [
  {
   "cell_type": "code",
   "execution_count": 1,
   "metadata": {},
   "outputs": [],
   "source": [
    "import pandas as pd\n",
    "import numpy as np\n",
    "import matplotlib.pyplot as plt\n",
    "import seaborn as sns\n",
    "from scipy import stats"
   ]
  },
  {
   "cell_type": "code",
   "execution_count": 2,
   "metadata": {},
   "outputs": [],
   "source": [
    "train_data = pd.read_csv(\"train.csv\")"
   ]
  },
  {
   "cell_type": "code",
   "execution_count": 3,
   "metadata": {},
   "outputs": [
    {
     "data": {
      "text/plain": [
       "(1460, 81)"
      ]
     },
     "execution_count": 3,
     "metadata": {},
     "output_type": "execute_result"
    }
   ],
   "source": [
    "train_data.shape"
   ]
  },
  {
   "cell_type": "code",
   "execution_count": 4,
   "metadata": {},
   "outputs": [
    {
     "data": {
      "text/html": [
       "<div>\n",
       "<style scoped>\n",
       "    .dataframe tbody tr th:only-of-type {\n",
       "        vertical-align: middle;\n",
       "    }\n",
       "\n",
       "    .dataframe tbody tr th {\n",
       "        vertical-align: top;\n",
       "    }\n",
       "\n",
       "    .dataframe thead th {\n",
       "        text-align: right;\n",
       "    }\n",
       "</style>\n",
       "<table border=\"1\" class=\"dataframe\">\n",
       "  <thead>\n",
       "    <tr style=\"text-align: right;\">\n",
       "      <th></th>\n",
       "      <th>Id</th>\n",
       "      <th>MSSubClass</th>\n",
       "      <th>MSZoning</th>\n",
       "      <th>LotFrontage</th>\n",
       "      <th>LotArea</th>\n",
       "      <th>Street</th>\n",
       "      <th>Alley</th>\n",
       "      <th>LotShape</th>\n",
       "      <th>LandContour</th>\n",
       "      <th>Utilities</th>\n",
       "      <th>...</th>\n",
       "      <th>PoolArea</th>\n",
       "      <th>PoolQC</th>\n",
       "      <th>Fence</th>\n",
       "      <th>MiscFeature</th>\n",
       "      <th>MiscVal</th>\n",
       "      <th>MoSold</th>\n",
       "      <th>YrSold</th>\n",
       "      <th>SaleType</th>\n",
       "      <th>SaleCondition</th>\n",
       "      <th>SalePrice</th>\n",
       "    </tr>\n",
       "  </thead>\n",
       "  <tbody>\n",
       "    <tr>\n",
       "      <th>0</th>\n",
       "      <td>1</td>\n",
       "      <td>60</td>\n",
       "      <td>RL</td>\n",
       "      <td>65.0</td>\n",
       "      <td>8450</td>\n",
       "      <td>Pave</td>\n",
       "      <td>NaN</td>\n",
       "      <td>Reg</td>\n",
       "      <td>Lvl</td>\n",
       "      <td>AllPub</td>\n",
       "      <td>...</td>\n",
       "      <td>0</td>\n",
       "      <td>NaN</td>\n",
       "      <td>NaN</td>\n",
       "      <td>NaN</td>\n",
       "      <td>0</td>\n",
       "      <td>2</td>\n",
       "      <td>2008</td>\n",
       "      <td>WD</td>\n",
       "      <td>Normal</td>\n",
       "      <td>208500</td>\n",
       "    </tr>\n",
       "    <tr>\n",
       "      <th>1</th>\n",
       "      <td>2</td>\n",
       "      <td>20</td>\n",
       "      <td>RL</td>\n",
       "      <td>80.0</td>\n",
       "      <td>9600</td>\n",
       "      <td>Pave</td>\n",
       "      <td>NaN</td>\n",
       "      <td>Reg</td>\n",
       "      <td>Lvl</td>\n",
       "      <td>AllPub</td>\n",
       "      <td>...</td>\n",
       "      <td>0</td>\n",
       "      <td>NaN</td>\n",
       "      <td>NaN</td>\n",
       "      <td>NaN</td>\n",
       "      <td>0</td>\n",
       "      <td>5</td>\n",
       "      <td>2007</td>\n",
       "      <td>WD</td>\n",
       "      <td>Normal</td>\n",
       "      <td>181500</td>\n",
       "    </tr>\n",
       "    <tr>\n",
       "      <th>2</th>\n",
       "      <td>3</td>\n",
       "      <td>60</td>\n",
       "      <td>RL</td>\n",
       "      <td>68.0</td>\n",
       "      <td>11250</td>\n",
       "      <td>Pave</td>\n",
       "      <td>NaN</td>\n",
       "      <td>IR1</td>\n",
       "      <td>Lvl</td>\n",
       "      <td>AllPub</td>\n",
       "      <td>...</td>\n",
       "      <td>0</td>\n",
       "      <td>NaN</td>\n",
       "      <td>NaN</td>\n",
       "      <td>NaN</td>\n",
       "      <td>0</td>\n",
       "      <td>9</td>\n",
       "      <td>2008</td>\n",
       "      <td>WD</td>\n",
       "      <td>Normal</td>\n",
       "      <td>223500</td>\n",
       "    </tr>\n",
       "    <tr>\n",
       "      <th>3</th>\n",
       "      <td>4</td>\n",
       "      <td>70</td>\n",
       "      <td>RL</td>\n",
       "      <td>60.0</td>\n",
       "      <td>9550</td>\n",
       "      <td>Pave</td>\n",
       "      <td>NaN</td>\n",
       "      <td>IR1</td>\n",
       "      <td>Lvl</td>\n",
       "      <td>AllPub</td>\n",
       "      <td>...</td>\n",
       "      <td>0</td>\n",
       "      <td>NaN</td>\n",
       "      <td>NaN</td>\n",
       "      <td>NaN</td>\n",
       "      <td>0</td>\n",
       "      <td>2</td>\n",
       "      <td>2006</td>\n",
       "      <td>WD</td>\n",
       "      <td>Abnorml</td>\n",
       "      <td>140000</td>\n",
       "    </tr>\n",
       "    <tr>\n",
       "      <th>4</th>\n",
       "      <td>5</td>\n",
       "      <td>60</td>\n",
       "      <td>RL</td>\n",
       "      <td>84.0</td>\n",
       "      <td>14260</td>\n",
       "      <td>Pave</td>\n",
       "      <td>NaN</td>\n",
       "      <td>IR1</td>\n",
       "      <td>Lvl</td>\n",
       "      <td>AllPub</td>\n",
       "      <td>...</td>\n",
       "      <td>0</td>\n",
       "      <td>NaN</td>\n",
       "      <td>NaN</td>\n",
       "      <td>NaN</td>\n",
       "      <td>0</td>\n",
       "      <td>12</td>\n",
       "      <td>2008</td>\n",
       "      <td>WD</td>\n",
       "      <td>Normal</td>\n",
       "      <td>250000</td>\n",
       "    </tr>\n",
       "  </tbody>\n",
       "</table>\n",
       "<p>5 rows × 81 columns</p>\n",
       "</div>"
      ],
      "text/plain": [
       "   Id  MSSubClass MSZoning  LotFrontage  LotArea Street Alley LotShape  \\\n",
       "0   1          60       RL         65.0     8450   Pave   NaN      Reg   \n",
       "1   2          20       RL         80.0     9600   Pave   NaN      Reg   \n",
       "2   3          60       RL         68.0    11250   Pave   NaN      IR1   \n",
       "3   4          70       RL         60.0     9550   Pave   NaN      IR1   \n",
       "4   5          60       RL         84.0    14260   Pave   NaN      IR1   \n",
       "\n",
       "  LandContour Utilities  ... PoolArea PoolQC Fence MiscFeature MiscVal MoSold  \\\n",
       "0         Lvl    AllPub  ...        0    NaN   NaN         NaN       0      2   \n",
       "1         Lvl    AllPub  ...        0    NaN   NaN         NaN       0      5   \n",
       "2         Lvl    AllPub  ...        0    NaN   NaN         NaN       0      9   \n",
       "3         Lvl    AllPub  ...        0    NaN   NaN         NaN       0      2   \n",
       "4         Lvl    AllPub  ...        0    NaN   NaN         NaN       0     12   \n",
       "\n",
       "  YrSold  SaleType  SaleCondition  SalePrice  \n",
       "0   2008        WD         Normal     208500  \n",
       "1   2007        WD         Normal     181500  \n",
       "2   2008        WD         Normal     223500  \n",
       "3   2006        WD        Abnorml     140000  \n",
       "4   2008        WD         Normal     250000  \n",
       "\n",
       "[5 rows x 81 columns]"
      ]
     },
     "execution_count": 4,
     "metadata": {},
     "output_type": "execute_result"
    }
   ],
   "source": [
    "train_data.head()"
   ]
  },
  {
   "cell_type": "code",
   "execution_count": 5,
   "metadata": {},
   "outputs": [
    {
     "data": {
      "text/plain": [
       "6965"
      ]
     },
     "execution_count": 5,
     "metadata": {},
     "output_type": "execute_result"
    }
   ],
   "source": [
    "train_data.isnull().sum().sum()"
   ]
  },
  {
   "cell_type": "code",
   "execution_count": 6,
   "metadata": {},
   "outputs": [
    {
     "name": "stdout",
     "output_type": "stream",
     "text": [
      "<class 'pandas.core.frame.DataFrame'>\n",
      "RangeIndex: 1460 entries, 0 to 1459\n",
      "Data columns (total 81 columns):\n",
      " #   Column         Non-Null Count  Dtype  \n",
      "---  ------         --------------  -----  \n",
      " 0   Id             1460 non-null   int64  \n",
      " 1   MSSubClass     1460 non-null   int64  \n",
      " 2   MSZoning       1460 non-null   object \n",
      " 3   LotFrontage    1201 non-null   float64\n",
      " 4   LotArea        1460 non-null   int64  \n",
      " 5   Street         1460 non-null   object \n",
      " 6   Alley          91 non-null     object \n",
      " 7   LotShape       1460 non-null   object \n",
      " 8   LandContour    1460 non-null   object \n",
      " 9   Utilities      1460 non-null   object \n",
      " 10  LotConfig      1460 non-null   object \n",
      " 11  LandSlope      1460 non-null   object \n",
      " 12  Neighborhood   1460 non-null   object \n",
      " 13  Condition1     1460 non-null   object \n",
      " 14  Condition2     1460 non-null   object \n",
      " 15  BldgType       1460 non-null   object \n",
      " 16  HouseStyle     1460 non-null   object \n",
      " 17  OverallQual    1460 non-null   int64  \n",
      " 18  OverallCond    1460 non-null   int64  \n",
      " 19  YearBuilt      1460 non-null   int64  \n",
      " 20  YearRemodAdd   1460 non-null   int64  \n",
      " 21  RoofStyle      1460 non-null   object \n",
      " 22  RoofMatl       1460 non-null   object \n",
      " 23  Exterior1st    1460 non-null   object \n",
      " 24  Exterior2nd    1460 non-null   object \n",
      " 25  MasVnrType     1452 non-null   object \n",
      " 26  MasVnrArea     1452 non-null   float64\n",
      " 27  ExterQual      1460 non-null   object \n",
      " 28  ExterCond      1460 non-null   object \n",
      " 29  Foundation     1460 non-null   object \n",
      " 30  BsmtQual       1423 non-null   object \n",
      " 31  BsmtCond       1423 non-null   object \n",
      " 32  BsmtExposure   1422 non-null   object \n",
      " 33  BsmtFinType1   1423 non-null   object \n",
      " 34  BsmtFinSF1     1460 non-null   int64  \n",
      " 35  BsmtFinType2   1422 non-null   object \n",
      " 36  BsmtFinSF2     1460 non-null   int64  \n",
      " 37  BsmtUnfSF      1460 non-null   int64  \n",
      " 38  TotalBsmtSF    1460 non-null   int64  \n",
      " 39  Heating        1460 non-null   object \n",
      " 40  HeatingQC      1460 non-null   object \n",
      " 41  CentralAir     1460 non-null   object \n",
      " 42  Electrical     1459 non-null   object \n",
      " 43  1stFlrSF       1460 non-null   int64  \n",
      " 44  2ndFlrSF       1460 non-null   int64  \n",
      " 45  LowQualFinSF   1460 non-null   int64  \n",
      " 46  GrLivArea      1460 non-null   int64  \n",
      " 47  BsmtFullBath   1460 non-null   int64  \n",
      " 48  BsmtHalfBath   1460 non-null   int64  \n",
      " 49  FullBath       1460 non-null   int64  \n",
      " 50  HalfBath       1460 non-null   int64  \n",
      " 51  BedroomAbvGr   1460 non-null   int64  \n",
      " 52  KitchenAbvGr   1460 non-null   int64  \n",
      " 53  KitchenQual    1460 non-null   object \n",
      " 54  TotRmsAbvGrd   1460 non-null   int64  \n",
      " 55  Functional     1460 non-null   object \n",
      " 56  Fireplaces     1460 non-null   int64  \n",
      " 57  FireplaceQu    770 non-null    object \n",
      " 58  GarageType     1379 non-null   object \n",
      " 59  GarageYrBlt    1379 non-null   float64\n",
      " 60  GarageFinish   1379 non-null   object \n",
      " 61  GarageCars     1460 non-null   int64  \n",
      " 62  GarageArea     1460 non-null   int64  \n",
      " 63  GarageQual     1379 non-null   object \n",
      " 64  GarageCond     1379 non-null   object \n",
      " 65  PavedDrive     1460 non-null   object \n",
      " 66  WoodDeckSF     1460 non-null   int64  \n",
      " 67  OpenPorchSF    1460 non-null   int64  \n",
      " 68  EnclosedPorch  1460 non-null   int64  \n",
      " 69  3SsnPorch      1460 non-null   int64  \n",
      " 70  ScreenPorch    1460 non-null   int64  \n",
      " 71  PoolArea       1460 non-null   int64  \n",
      " 72  PoolQC         7 non-null      object \n",
      " 73  Fence          281 non-null    object \n",
      " 74  MiscFeature    54 non-null     object \n",
      " 75  MiscVal        1460 non-null   int64  \n",
      " 76  MoSold         1460 non-null   int64  \n",
      " 77  YrSold         1460 non-null   int64  \n",
      " 78  SaleType       1460 non-null   object \n",
      " 79  SaleCondition  1460 non-null   object \n",
      " 80  SalePrice      1460 non-null   int64  \n",
      "dtypes: float64(3), int64(35), object(43)\n",
      "memory usage: 924.0+ KB\n"
     ]
    }
   ],
   "source": [
    "train_data.info()"
   ]
  },
  {
   "cell_type": "code",
   "execution_count": 7,
   "metadata": {},
   "outputs": [],
   "source": [
    "train_data.drop(columns=[\"Id\"], inplace=True)\n",
    "\n",
    "excessive_na_cols = [\"Alley\", \"PoolQC\", \"Fence\", 'MasVnrType', \"MiscFeature\", 'FireplaceQu']\n",
    "\n",
    "train_data.drop(columns=excessive_na_cols, inplace=True)"
   ]
  },
  {
   "cell_type": "code",
   "execution_count": 8,
   "metadata": {},
   "outputs": [
    {
     "name": "stdout",
     "output_type": "stream",
     "text": [
      "Column: Street\n",
      "Most frequent category makes up 99.59% of the values.\n",
      "\n",
      "Column: Utilities\n",
      "Most frequent category makes up 99.93% of the values.\n",
      "\n",
      "Column: LandSlope\n",
      "Most frequent category makes up 94.66% of the values.\n",
      "\n",
      "Column: Condition2\n",
      "Most frequent category makes up 98.97% of the values.\n",
      "\n",
      "Column: RoofMatl\n",
      "Most frequent category makes up 98.22% of the values.\n",
      "\n",
      "Column: BsmtCond\n",
      "Most frequent category makes up 92.13% of the values.\n",
      "\n",
      "Column: Heating\n",
      "Most frequent category makes up 97.81% of the values.\n",
      "\n",
      "Column: CentralAir\n",
      "Most frequent category makes up 93.49% of the values.\n",
      "\n",
      "Column: Electrical\n",
      "Most frequent category makes up 91.43% of the values.\n",
      "\n",
      "Column: Functional\n",
      "Most frequent category makes up 93.15% of the values.\n",
      "\n",
      "Column: GarageQual\n",
      "Most frequent category makes up 95.07% of the values.\n",
      "\n",
      "Column: GarageCond\n",
      "Most frequent category makes up 96.16% of the values.\n",
      "\n",
      "Column: PavedDrive\n",
      "Most frequent category makes up 91.78% of the values.\n",
      "\n"
     ]
    }
   ],
   "source": [
    "for column in train_data.select_dtypes(include='object').columns:\n",
    "    most_frequent_value = train_data[column].value_counts(normalize=True).max()\n",
    "    \n",
    "    if most_frequent_value >= 0.90:\n",
    "        print(f\"Column: {column}\")\n",
    "        print(f\"Most frequent category makes up {most_frequent_value * 100:.2f}% of the values.\\n\")"
   ]
  },
  {
   "cell_type": "code",
   "execution_count": 9,
   "metadata": {},
   "outputs": [],
   "source": [
    "unneccessary_cols = [\n",
    "    \"Street\", \"Utilities\", \"LandSlope\", \"Condition2\", \"RoofMatl\", \"BsmtCond\", \n",
    "    \"Heating\", \"Electrical\", \"Functional\", \"GarageQual\", \"GarageCond\", \"PavedDrive\"\n",
    "]\n",
    "\n",
    "train_data.drop(columns=unneccessary_cols, inplace=True)"
   ]
  },
  {
   "cell_type": "code",
   "execution_count": 10,
   "metadata": {},
   "outputs": [],
   "source": [
    "from sklearn.impute import SimpleImputer\n",
    "\n",
    "num_cols = train_data.select_dtypes(include=['number']).columns\n",
    "mean_imputer = SimpleImputer(strategy='mean')\n",
    "\n",
    "train_data[num_cols] = mean_imputer.fit_transform(train_data[num_cols])"
   ]
  },
  {
   "cell_type": "code",
   "execution_count": 11,
   "metadata": {},
   "outputs": [],
   "source": [
    "# categorical columns\n",
    "categorical_cols = train_data.select_dtypes(include=['object']).columns\n",
    "\n",
    "mode_imputer = SimpleImputer(strategy='most_frequent')\n",
    "train_data[categorical_cols] = mode_imputer.fit_transform(train_data[categorical_cols])"
   ]
  },
  {
   "cell_type": "code",
   "execution_count": 12,
   "metadata": {},
   "outputs": [
    {
     "data": {
      "text/plain": [
       "0"
      ]
     },
     "execution_count": 12,
     "metadata": {},
     "output_type": "execute_result"
    }
   ],
   "source": [
    "train_data.isnull().sum().sum()"
   ]
  },
  {
   "cell_type": "code",
   "execution_count": 13,
   "metadata": {},
   "outputs": [],
   "source": [
    "relevant_columns = [\n",
    "    'OverallQual', 'GrLivArea', 'TotalBsmtSF', '1stFlrSF', '2ndFlrSF',\n",
    "    'GarageArea', 'YearBuilt', 'YearRemodAdd', 'Neighborhood',\n",
    "    'Condition1', 'LotArea', 'HeatingQC', 'TotRmsAbvGrd',\n",
    "    'FullBath', 'HalfBath', 'BedroomAbvGr', 'SaleType', \n",
    "    'SaleCondition', 'LotFrontage','MasVnrArea', 'MoSold', \n",
    "    'YrSold', 'SalePrice',\n",
    "]\n",
    "train_data = train_data[relevant_columns]"
   ]
  },
  {
   "cell_type": "code",
   "execution_count": 14,
   "metadata": {},
   "outputs": [
    {
     "data": {
      "text/plain": [
       "Index(['OverallQual', 'GrLivArea', 'TotalBsmtSF', '1stFlrSF', '2ndFlrSF',\n",
       "       'GarageArea', 'YearBuilt', 'YearRemodAdd', 'Neighborhood', 'Condition1',\n",
       "       'LotArea', 'HeatingQC', 'TotRmsAbvGrd', 'FullBath', 'HalfBath',\n",
       "       'BedroomAbvGr', 'SaleType', 'SaleCondition', 'LotFrontage',\n",
       "       'MasVnrArea', 'MoSold', 'YrSold', 'SalePrice'],\n",
       "      dtype='object')"
      ]
     },
     "execution_count": 14,
     "metadata": {},
     "output_type": "execute_result"
    }
   ],
   "source": [
    "train_data.columns"
   ]
  },
  {
   "cell_type": "code",
   "execution_count": 15,
   "metadata": {},
   "outputs": [],
   "source": [
    "numerical_columns = [\n",
    "    'GrLivArea', 'TotalBsmtSF', '1stFlrSF', '2ndFlrSF',\n",
    "  'GarageArea', 'LotArea', 'LotFrontage', 'MasVnrArea'\n",
    "]\n",
    "\n",
    "\n",
    "def handle_outliers(train_data, column, method='remove'):\n",
    "    Q1 = train_data[column].quantile(0.25)\n",
    "    Q3 = train_data[column].quantile(0.75)\n",
    "    IQR = Q3 - Q1\n",
    "\n",
    "    lower_bound = Q1 - 1.5 * IQR\n",
    "    upper_bound = Q3 + 1.5 * IQR\n",
    "\n",
    "    if method == 'remove':\n",
    "        train_data = train_data[(train_data[column] >= lower_bound) & (train_data[column] <= upper_bound)]\n",
    "    elif method == 'cap':\n",
    "        train_data[column] = train_data[column].apply(lambda x: lower_bound if x < lower_bound else upper_bound if x > upper_bound else x)\n",
    "\n",
    "    return train_data\n",
    "\n",
    "for column in numerical_columns:\n",
    "    train_data = handle_outliers(train_data, column, method='remove') # cap"
   ]
  },
  {
   "cell_type": "code",
   "execution_count": 16,
   "metadata": {},
   "outputs": [
    {
     "data": {
      "text/html": [
       "<div>\n",
       "<style scoped>\n",
       "    .dataframe tbody tr th:only-of-type {\n",
       "        vertical-align: middle;\n",
       "    }\n",
       "\n",
       "    .dataframe tbody tr th {\n",
       "        vertical-align: top;\n",
       "    }\n",
       "\n",
       "    .dataframe thead th {\n",
       "        text-align: right;\n",
       "    }\n",
       "</style>\n",
       "<table border=\"1\" class=\"dataframe\">\n",
       "  <thead>\n",
       "    <tr style=\"text-align: right;\">\n",
       "      <th></th>\n",
       "      <th>OverallQual</th>\n",
       "      <th>GrLivArea</th>\n",
       "      <th>TotalBsmtSF</th>\n",
       "      <th>1stFlrSF</th>\n",
       "      <th>2ndFlrSF</th>\n",
       "      <th>GarageArea</th>\n",
       "      <th>YearBuilt</th>\n",
       "      <th>YearRemodAdd</th>\n",
       "      <th>LotArea</th>\n",
       "      <th>TotRmsAbvGrd</th>\n",
       "      <th>FullBath</th>\n",
       "      <th>HalfBath</th>\n",
       "      <th>BedroomAbvGr</th>\n",
       "      <th>LotFrontage</th>\n",
       "      <th>MasVnrArea</th>\n",
       "      <th>MoSold</th>\n",
       "      <th>YrSold</th>\n",
       "      <th>SalePrice</th>\n",
       "    </tr>\n",
       "  </thead>\n",
       "  <tbody>\n",
       "    <tr>\n",
       "      <th>count</th>\n",
       "      <td>1132.000000</td>\n",
       "      <td>1132.000000</td>\n",
       "      <td>1132.000000</td>\n",
       "      <td>1132.000000</td>\n",
       "      <td>1132.000000</td>\n",
       "      <td>1132.000000</td>\n",
       "      <td>1132.000000</td>\n",
       "      <td>1132.000000</td>\n",
       "      <td>1132.000000</td>\n",
       "      <td>1132.000000</td>\n",
       "      <td>1132.000000</td>\n",
       "      <td>1132.000000</td>\n",
       "      <td>1132.000000</td>\n",
       "      <td>1132.000000</td>\n",
       "      <td>1132.000000</td>\n",
       "      <td>1132.000000</td>\n",
       "      <td>1132.000000</td>\n",
       "      <td>1132.000000</td>\n",
       "    </tr>\n",
       "    <tr>\n",
       "      <th>mean</th>\n",
       "      <td>5.972615</td>\n",
       "      <td>1429.412544</td>\n",
       "      <td>1027.022968</td>\n",
       "      <td>1106.778269</td>\n",
       "      <td>317.435512</td>\n",
       "      <td>447.808304</td>\n",
       "      <td>1969.454947</td>\n",
       "      <td>1984.440813</td>\n",
       "      <td>9167.280035</td>\n",
       "      <td>6.343640</td>\n",
       "      <td>1.501767</td>\n",
       "      <td>0.350707</td>\n",
       "      <td>2.844523</td>\n",
       "      <td>67.705955</td>\n",
       "      <td>62.811936</td>\n",
       "      <td>6.378092</td>\n",
       "      <td>2007.815371</td>\n",
       "      <td>168774.807420</td>\n",
       "    </tr>\n",
       "    <tr>\n",
       "      <th>std</th>\n",
       "      <td>1.247509</td>\n",
       "      <td>422.367920</td>\n",
       "      <td>318.288818</td>\n",
       "      <td>302.196950</td>\n",
       "      <td>407.634586</td>\n",
       "      <td>194.404646</td>\n",
       "      <td>30.976571</td>\n",
       "      <td>20.883726</td>\n",
       "      <td>2755.295300</td>\n",
       "      <td>1.448596</td>\n",
       "      <td>0.529415</td>\n",
       "      <td>0.495577</td>\n",
       "      <td>0.773475</td>\n",
       "      <td>13.560233</td>\n",
       "      <td>99.626565</td>\n",
       "      <td>2.726264</td>\n",
       "      <td>1.319249</td>\n",
       "      <td>58871.969305</td>\n",
       "    </tr>\n",
       "    <tr>\n",
       "      <th>min</th>\n",
       "      <td>1.000000</td>\n",
       "      <td>438.000000</td>\n",
       "      <td>105.000000</td>\n",
       "      <td>438.000000</td>\n",
       "      <td>0.000000</td>\n",
       "      <td>0.000000</td>\n",
       "      <td>1872.000000</td>\n",
       "      <td>1950.000000</td>\n",
       "      <td>1974.000000</td>\n",
       "      <td>3.000000</td>\n",
       "      <td>0.000000</td>\n",
       "      <td>0.000000</td>\n",
       "      <td>0.000000</td>\n",
       "      <td>33.000000</td>\n",
       "      <td>0.000000</td>\n",
       "      <td>1.000000</td>\n",
       "      <td>2006.000000</td>\n",
       "      <td>34900.000000</td>\n",
       "    </tr>\n",
       "    <tr>\n",
       "      <th>25%</th>\n",
       "      <td>5.000000</td>\n",
       "      <td>1099.750000</td>\n",
       "      <td>804.000000</td>\n",
       "      <td>869.000000</td>\n",
       "      <td>0.000000</td>\n",
       "      <td>308.000000</td>\n",
       "      <td>1950.000000</td>\n",
       "      <td>1965.000000</td>\n",
       "      <td>7500.000000</td>\n",
       "      <td>5.000000</td>\n",
       "      <td>1.000000</td>\n",
       "      <td>0.000000</td>\n",
       "      <td>2.000000</td>\n",
       "      <td>60.000000</td>\n",
       "      <td>0.000000</td>\n",
       "      <td>5.000000</td>\n",
       "      <td>2007.000000</td>\n",
       "      <td>129000.000000</td>\n",
       "    </tr>\n",
       "    <tr>\n",
       "      <th>50%</th>\n",
       "      <td>6.000000</td>\n",
       "      <td>1395.500000</td>\n",
       "      <td>969.500000</td>\n",
       "      <td>1052.000000</td>\n",
       "      <td>0.000000</td>\n",
       "      <td>462.000000</td>\n",
       "      <td>1971.000000</td>\n",
       "      <td>1993.000000</td>\n",
       "      <td>9100.000000</td>\n",
       "      <td>6.000000</td>\n",
       "      <td>1.000000</td>\n",
       "      <td>0.000000</td>\n",
       "      <td>3.000000</td>\n",
       "      <td>70.049958</td>\n",
       "      <td>0.000000</td>\n",
       "      <td>6.000000</td>\n",
       "      <td>2008.000000</td>\n",
       "      <td>157000.000000</td>\n",
       "    </tr>\n",
       "    <tr>\n",
       "      <th>75%</th>\n",
       "      <td>7.000000</td>\n",
       "      <td>1694.500000</td>\n",
       "      <td>1218.250000</td>\n",
       "      <td>1302.000000</td>\n",
       "      <td>704.750000</td>\n",
       "      <td>566.250000</td>\n",
       "      <td>2000.000000</td>\n",
       "      <td>2003.000000</td>\n",
       "      <td>10800.000000</td>\n",
       "      <td>7.000000</td>\n",
       "      <td>2.000000</td>\n",
       "      <td>1.000000</td>\n",
       "      <td>3.000000</td>\n",
       "      <td>75.000000</td>\n",
       "      <td>108.000000</td>\n",
       "      <td>8.000000</td>\n",
       "      <td>2009.000000</td>\n",
       "      <td>197125.000000</td>\n",
       "    </tr>\n",
       "    <tr>\n",
       "      <th>max</th>\n",
       "      <td>10.000000</td>\n",
       "      <td>2730.000000</td>\n",
       "      <td>1952.000000</td>\n",
       "      <td>2028.000000</td>\n",
       "      <td>1611.000000</td>\n",
       "      <td>954.000000</td>\n",
       "      <td>2010.000000</td>\n",
       "      <td>2010.000000</td>\n",
       "      <td>17104.000000</td>\n",
       "      <td>12.000000</td>\n",
       "      <td>3.000000</td>\n",
       "      <td>2.000000</td>\n",
       "      <td>6.000000</td>\n",
       "      <td>105.000000</td>\n",
       "      <td>366.000000</td>\n",
       "      <td>12.000000</td>\n",
       "      <td>2010.000000</td>\n",
       "      <td>446261.000000</td>\n",
       "    </tr>\n",
       "  </tbody>\n",
       "</table>\n",
       "</div>"
      ],
      "text/plain": [
       "       OverallQual    GrLivArea  TotalBsmtSF     1stFlrSF     2ndFlrSF  \\\n",
       "count  1132.000000  1132.000000  1132.000000  1132.000000  1132.000000   \n",
       "mean      5.972615  1429.412544  1027.022968  1106.778269   317.435512   \n",
       "std       1.247509   422.367920   318.288818   302.196950   407.634586   \n",
       "min       1.000000   438.000000   105.000000   438.000000     0.000000   \n",
       "25%       5.000000  1099.750000   804.000000   869.000000     0.000000   \n",
       "50%       6.000000  1395.500000   969.500000  1052.000000     0.000000   \n",
       "75%       7.000000  1694.500000  1218.250000  1302.000000   704.750000   \n",
       "max      10.000000  2730.000000  1952.000000  2028.000000  1611.000000   \n",
       "\n",
       "        GarageArea    YearBuilt  YearRemodAdd       LotArea  TotRmsAbvGrd  \\\n",
       "count  1132.000000  1132.000000   1132.000000   1132.000000   1132.000000   \n",
       "mean    447.808304  1969.454947   1984.440813   9167.280035      6.343640   \n",
       "std     194.404646    30.976571     20.883726   2755.295300      1.448596   \n",
       "min       0.000000  1872.000000   1950.000000   1974.000000      3.000000   \n",
       "25%     308.000000  1950.000000   1965.000000   7500.000000      5.000000   \n",
       "50%     462.000000  1971.000000   1993.000000   9100.000000      6.000000   \n",
       "75%     566.250000  2000.000000   2003.000000  10800.000000      7.000000   \n",
       "max     954.000000  2010.000000   2010.000000  17104.000000     12.000000   \n",
       "\n",
       "          FullBath     HalfBath  BedroomAbvGr  LotFrontage   MasVnrArea  \\\n",
       "count  1132.000000  1132.000000   1132.000000  1132.000000  1132.000000   \n",
       "mean      1.501767     0.350707      2.844523    67.705955    62.811936   \n",
       "std       0.529415     0.495577      0.773475    13.560233    99.626565   \n",
       "min       0.000000     0.000000      0.000000    33.000000     0.000000   \n",
       "25%       1.000000     0.000000      2.000000    60.000000     0.000000   \n",
       "50%       1.000000     0.000000      3.000000    70.049958     0.000000   \n",
       "75%       2.000000     1.000000      3.000000    75.000000   108.000000   \n",
       "max       3.000000     2.000000      6.000000   105.000000   366.000000   \n",
       "\n",
       "            MoSold       YrSold      SalePrice  \n",
       "count  1132.000000  1132.000000    1132.000000  \n",
       "mean      6.378092  2007.815371  168774.807420  \n",
       "std       2.726264     1.319249   58871.969305  \n",
       "min       1.000000  2006.000000   34900.000000  \n",
       "25%       5.000000  2007.000000  129000.000000  \n",
       "50%       6.000000  2008.000000  157000.000000  \n",
       "75%       8.000000  2009.000000  197125.000000  \n",
       "max      12.000000  2010.000000  446261.000000  "
      ]
     },
     "execution_count": 16,
     "metadata": {},
     "output_type": "execute_result"
    }
   ],
   "source": [
    "train_data.describe()"
   ]
  },
  {
   "cell_type": "code",
   "execution_count": 17,
   "metadata": {},
   "outputs": [
    {
     "data": {
      "image/png": "[encoded data removed]",
      "text/plain": [
       "<Figure size 1008x720 with 2 Axes>"
      ]
     },
     "metadata": {
      "needs_background": "light"
     },
     "output_type": "display_data"
    },
    {
     "name": "stdout",
     "output_type": "stream",
     "text": [
      "SalePrice       1.000000\n",
      "OverallQual     0.800236\n",
      "GrLivArea       0.666213\n",
      "YearBuilt       0.621623\n",
      "GarageArea      0.609885\n",
      "FullBath        0.583217\n",
      "TotalBsmtSF     0.568116\n",
      "YearRemodAdd    0.562600\n",
      "1stFlrSF        0.544159\n",
      "TotRmsAbvGrd    0.470684\n",
      "MasVnrArea      0.403255\n",
      "LotArea         0.329892\n",
      "2ndFlrSF        0.297170\n",
      "LotFrontage     0.294456\n",
      "HalfBath        0.290677\n",
      "BedroomAbvGr    0.146087\n",
      "MoSold          0.089347\n",
      "YrSold         -0.014557\n",
      "Name: SalePrice, dtype: float64\n"
     ]
    }
   ],
   "source": [
    "# corr with salprice\n",
    "numerical_df = train_data.select_dtypes(include=['float64', 'int64'])\n",
    "\n",
    "corr_matrix = numerical_df.corr()\n",
    "\n",
    "plt.figure(figsize=(14, 10))\n",
    "sns.heatmap(corr_matrix, annot=True, fmt='.2f')\n",
    "plt.show()\n",
    "\n",
    "corr_with_saleprice = corr_matrix['SalePrice'].sort_values(ascending=False)\n",
    "print(corr_with_saleprice)\n"
   ]
  },
  {
   "cell_type": "code",
   "execution_count": 18,
   "metadata": {},
   "outputs": [],
   "source": [
    "weak_features = [\"BedroomAbvGr\", \"MoSold\", \"YrSold\"]\n",
    "train_data = train_data.drop(columns=weak_features)"
   ]
  },
  {
   "cell_type": "code",
   "execution_count": 19,
   "metadata": {},
   "outputs": [
    {
     "data": {
      "text/plain": [
       "0       208500.0\n",
       "1       181500.0\n",
       "2       223500.0\n",
       "3       140000.0\n",
       "4       250000.0\n",
       "          ...   \n",
       "1454    185000.0\n",
       "1455    175000.0\n",
       "1457    266500.0\n",
       "1458    142125.0\n",
       "1459    147500.0\n",
       "Name: SalePrice, Length: 1132, dtype: float64"
      ]
     },
     "execution_count": 19,
     "metadata": {},
     "output_type": "execute_result"
    }
   ],
   "source": [
    "train_data[\"SalePrice\"]"
   ]
  },
  {
   "cell_type": "code",
   "execution_count": 20,
   "metadata": {},
   "outputs": [
    {
     "name": "stdout",
     "output_type": "stream",
     "text": [
      "                 Skew\n",
      "MasVnrArea   1.417217\n",
      "2ndFlrSF     0.758154\n",
      "1stFlrSF     0.595739\n",
      "GrLivArea    0.536203\n",
      "TotalBsmtSF  0.497570\n",
      "LotArea      0.068741\n",
      "LotFrontage -0.078812\n",
      "GarageArea  -0.145446\n"
     ]
    }
   ],
   "source": [
    "from scipy.stats import skew\n",
    "from numpy import log1p\n",
    "\n",
    "skewed_features = train_data[numerical_columns].apply(lambda x: skew(x.dropna())).sort_values(ascending=False)\n",
    "skewness = pd.DataFrame({'Skew': skewed_features})\n",
    "print(skewness)\n",
    "\n",
    "skewed_features = skewness[skewness['Skew'] > 0.75].index\n",
    "train_data[skewed_features] = train_data[skewed_features].apply(lambda x: log1p(x))"
   ]
  },
  {
   "cell_type": "code",
   "execution_count": 21,
   "metadata": {},
   "outputs": [],
   "source": [
    "train_data = pd.get_dummies(train_data, columns=[\n",
    "    'Neighborhood', 'Condition1', 'SaleType', 'SaleCondition', 'HeatingQC'\n",
    "], drop_first=True)"
   ]
  },
  {
   "cell_type": "code",
   "execution_count": 22,
   "metadata": {},
   "outputs": [
    {
     "data": {
      "text/plain": [
       "Index(['OverallQual', 'GrLivArea', 'TotalBsmtSF', '1stFlrSF', '2ndFlrSF',\n",
       "       'GarageArea', 'YearBuilt', 'YearRemodAdd', 'LotArea', 'TotRmsAbvGrd',\n",
       "       'FullBath', 'HalfBath', 'LotFrontage', 'MasVnrArea', 'SalePrice',\n",
       "       'Neighborhood_BrkSide', 'Neighborhood_ClearCr', 'Neighborhood_CollgCr',\n",
       "       'Neighborhood_Crawfor', 'Neighborhood_Edwards', 'Neighborhood_Gilbert',\n",
       "       'Neighborhood_IDOTRR', 'Neighborhood_MeadowV', 'Neighborhood_Mitchel',\n",
       "       'Neighborhood_NAmes', 'Neighborhood_NPkVill', 'Neighborhood_NWAmes',\n",
       "       'Neighborhood_NoRidge', 'Neighborhood_NridgHt', 'Neighborhood_OldTown',\n",
       "       'Neighborhood_SWISU', 'Neighborhood_Sawyer', 'Neighborhood_SawyerW',\n",
       "       'Neighborhood_Somerst', 'Neighborhood_StoneBr', 'Neighborhood_Timber',\n",
       "       'Neighborhood_Veenker', 'Condition1_Feedr', 'Condition1_Norm',\n",
       "       'Condition1_PosA', 'Condition1_PosN', 'Condition1_RRAe',\n",
       "       'Condition1_RRAn', 'Condition1_RRNe', 'Condition1_RRNn', 'SaleType_CWD',\n",
       "       'SaleType_Con', 'SaleType_ConLD', 'SaleType_ConLI', 'SaleType_ConLw',\n",
       "       'SaleType_New', 'SaleType_Oth', 'SaleType_WD', 'SaleCondition_AdjLand',\n",
       "       'SaleCondition_Alloca', 'SaleCondition_Family', 'SaleCondition_Normal',\n",
       "       'SaleCondition_Partial', 'HeatingQC_Fa', 'HeatingQC_Gd', 'HeatingQC_Po',\n",
       "       'HeatingQC_TA'],\n",
       "      dtype='object')"
      ]
     },
     "execution_count": 22,
     "metadata": {},
     "output_type": "execute_result"
    }
   ],
   "source": [
    "train_data.columns"
   ]
  },
  {
   "cell_type": "code",
   "execution_count": 23,
   "metadata": {},
   "outputs": [
    {
     "data": {
      "text/plain": [
       "62"
      ]
     },
     "execution_count": 23,
     "metadata": {},
     "output_type": "execute_result"
    }
   ],
   "source": [
    "train_data.shape[1]"
   ]
  },
  {
   "cell_type": "code",
   "execution_count": 24,
   "metadata": {},
   "outputs": [],
   "source": [
    "from sklearn.preprocessing import StandardScaler\n",
    "\n",
    "# Standardize numerical features\n",
    "scaler = StandardScaler()\n",
    "numerical_features = ['OverallQual', 'GrLivArea', 'TotalBsmtSF', '1stFlrSF', '2ndFlrSF',\n",
    "                      'GarageArea', 'YearBuilt', 'YearRemodAdd',\n",
    "                      'LotArea', 'LotFrontage', 'MasVnrArea',\n",
    "                      'TotRmsAbvGrd', 'FullBath', 'HalfBath']\n",
    "\n",
    "train_data[numerical_features] = scaler.fit_transform(train_data[numerical_features])"
   ]
  },
  {
   "cell_type": "code",
   "execution_count": 25,
   "metadata": {},
   "outputs": [],
   "source": [
    "from sklearn.model_selection import train_test_split\n",
    "from sklearn.linear_model import LinearRegression\n",
    "from sklearn.metrics import mean_squared_error\n",
    "from sklearn.metrics import mean_absolute_percentage_error\n",
    "\n",
    "\n",
    "X = train_data.drop('SalePrice', axis=1)\n",
    "y = train_data['SalePrice']\n",
    "X_train, X_val, y_train, y_val = train_test_split(X, y, test_size=0.3, random_state=42)\n"
   ]
  },
  {
   "cell_type": "code",
   "execution_count": 26,
   "metadata": {},
   "outputs": [
    {
     "data": {
      "text/plain": [
       "(792, 61)"
      ]
     },
     "execution_count": 26,
     "metadata": {},
     "output_type": "execute_result"
    }
   ],
   "source": [
    "X_train.shape"
   ]
  },
  {
   "cell_type": "code",
   "execution_count": 27,
   "metadata": {},
   "outputs": [
    {
     "data": {
      "text/plain": [
       "(340, 61)"
      ]
     },
     "execution_count": 27,
     "metadata": {},
     "output_type": "execute_result"
    }
   ],
   "source": [
    "X_val.shape"
   ]
  },
  {
   "cell_type": "code",
   "execution_count": 28,
   "metadata": {},
   "outputs": [
    {
     "data": {
      "text/plain": [
       "array([187359.59252241, 111920.66887193, 117208.2568226 , 269643.77902764,\n",
       "       218078.48392894,  68510.60488382, 184912.60003564, 199041.09570563,\n",
       "        89025.20856908, 249847.00698564, 202907.21495377, 218860.41587473,\n",
       "       152382.45499631, 216151.00854695, 149081.36349576, 261162.84703727,\n",
       "       121265.25113893, 136798.85130894, 174612.5482471 , 105682.00390029,\n",
       "       156056.10872914, 280271.98526157, 131154.84133478,  95985.71903665,\n",
       "       121721.40897542, 177160.33932343, 147493.98530263, 140561.37563853,\n",
       "       162488.40360826,  64474.70365252, 105627.53351743, 103256.38819859,\n",
       "       171773.77957565, 178391.34077239, 195709.87480596, 124874.82967219,\n",
       "       204458.67373461, 170034.76850103, 128724.8952066 , 214004.81061719,\n",
       "       131282.87192898, 155331.21570384, 141262.29056743, 179309.09324364,\n",
       "       298457.62648974, 289706.74242716, 189793.39821339,  83645.38250067,\n",
       "       107764.45995527, 186135.05200116, 123607.12731181, 166176.81953972,\n",
       "       152497.65941721, 195938.91846538, 178813.08491986, 186538.77076074,\n",
       "       167872.79772645,  96918.57796581, 229682.94472725,  80861.32961801,\n",
       "       140163.81619183, 151844.89502102, 300744.43656669,  98978.33909175,\n",
       "       141077.68479928, 240186.45076942, 159870.41491416, 154748.24845241,\n",
       "       129807.31085043, 284180.30028353, 147411.5555852 , 147553.58767574,\n",
       "       135672.77137393, 115597.11545819,  90762.95414846, 192478.97922157,\n",
       "       180005.63000224, 224337.90285938, 124849.27816477, 121227.75871455,\n",
       "       106743.01933806, 264358.57881538, 195782.55003644, 152277.16584805,\n",
       "       299703.42349716, 261591.90314201, 231730.01890568, 163770.29488286,\n",
       "       146239.30133342, 157261.30704125, 107824.41634411, 190905.7900247 ,\n",
       "       100630.41850889, 118034.76353234,  58905.866885  , 134934.53075797,\n",
       "       205057.39267566, 205169.63997829, 125174.60117376, 173653.13580547,\n",
       "       170166.45106122, 138363.87081642, 214117.49146189, 149583.66853271,\n",
       "       167216.96224563, 135008.33532057, 142382.01497757, 214351.95008022,\n",
       "       209946.3927856 , 149032.98435917, 145938.36123079, 228347.21136551,\n",
       "       148019.50641205, 148939.5373592 , 142851.81118882, 183390.54298662,\n",
       "       211027.22465852, 165035.33771128, 232712.4420208 , 229193.76009198,\n",
       "       100620.96502092, 114264.45246289, 180845.65561223, 114356.28341823,\n",
       "       134004.77202548, 218093.80824152, 108838.96463177, 115722.46289957,\n",
       "       124909.79953118, 219416.15451947, 220151.23482461, 247598.1257148 ,\n",
       "       170078.08250705,  84190.435746  , 171629.19427133, 172110.32118131,\n",
       "       280980.03297338, 133470.80850455, 135583.62224084,  71090.32143484,\n",
       "        98790.56150721, 223511.95490348, 112035.791835  , 235719.97320675,\n",
       "        99667.02886703, 132219.20282975, 185476.80153472, 144902.37761741,\n",
       "       129316.69104348, 201708.21232507, 283666.57760067, 179407.77376469,\n",
       "       178655.84574228, 179934.34099489, 170598.8010475 , 243863.95113703,\n",
       "       128479.37467722, 118944.72227312, 238669.24150512, 112621.97977751,\n",
       "       248764.17289676, 178918.54915537,  95794.11971953, 350196.52504893,\n",
       "       245139.35909839, 204336.13239778, 128004.10760313, 195226.55960845,\n",
       "       118469.57535074, 144026.08575263, 218481.23046675, 183277.15356432,\n",
       "       164332.54160956, 175044.42674008, 175563.49621375, 163151.24431974,\n",
       "       163579.60068513, 154224.41814963, 139976.32759205, 200491.58778394,\n",
       "       105662.12326693, 167941.43038958, 206904.30973684, 170813.53850055,\n",
       "       235151.88142076, 165243.685546  , 103832.887908  , 156674.13178861,\n",
       "       190688.51512432, 116135.00677581, 185060.0878026 , 204375.98289978,\n",
       "       148959.13007473, 136725.33753131, 258989.24036919, 128889.927588  ,\n",
       "       165402.04730791, 176282.77108448, 140880.69523735, 235447.62524247,\n",
       "       105496.19011323,  82571.3713216 , 148245.11630826, 162062.50879077,\n",
       "       127252.3436021 , 173424.68301198, 104975.34132776, 122644.13740076,\n",
       "       212336.55480534, 202156.83586747, 145052.59223531, 132371.48111587,\n",
       "       111996.7389486 , 234616.78353427, 137244.29250469, 230995.49682758,\n",
       "       201493.40596795, 303982.61419791, 158633.03236152, 177697.55114838,\n",
       "       149632.74139191, 176684.29110531,  94380.12156412, 107503.75318557,\n",
       "       110851.07507387, 199349.84522745, 123051.08253124, 126537.79727817,\n",
       "       205149.07768852, 197479.74494465,  44988.00929742, 169435.33241609,\n",
       "       104583.8837093 , 199760.63181987, 202768.70645782, 178673.19359078,\n",
       "       300003.14431581, 156555.16177911, 216734.05770998, 191798.26931724,\n",
       "       210564.03178156, 184414.31635746, 131115.15685996, 174352.65807056,\n",
       "       206608.15094687, 224173.49524612, 177003.81270457, 140687.71316477,\n",
       "        86720.65099977, 187416.26723686, 225345.73032449, 138354.70443205,\n",
       "        88641.76460622, 221358.74462287,  40518.88107316, 216346.05578838,\n",
       "       255061.65727853, 172868.65712128, 156220.5647078 , 222395.00385628,\n",
       "       224347.49806714, 113642.08913516, 175263.9873267 , 262147.10686996,\n",
       "       206188.69422301, 135959.88465858, 260737.57814899, 256194.79404239,\n",
       "       184397.76024402, 266025.75594847, 243854.05297578, 146770.96504025,\n",
       "       222311.81495859, 185065.55922993, 258535.31587424, 174579.47931399,\n",
       "       212274.4886404 , 109464.18007758, 168453.4321626 , 110267.67821713,\n",
       "       108419.98861113, 158884.8417796 , 160618.3579772 , 156651.63619022,\n",
       "       166768.70618157, 214662.73477037, 177790.53930471, 234078.50528246,\n",
       "       130314.06467437, 320923.57497148, 238803.09128018, 214110.00793534,\n",
       "       164424.46777869, 291401.33532382, 161758.33507435, 294125.0979732 ,\n",
       "       146929.26421315, 162105.54933867, 165385.48050339, 134540.01322969,\n",
       "       137560.71922852, 242616.40842402, 170170.26130321, 164831.3983831 ,\n",
       "       127228.07777621, 150672.92351762, 176165.33623039, 204256.88877462,\n",
       "       231001.3164869 , 130791.53070969, 202410.55914199,  32573.57794419,\n",
       "        95648.32750276, 235896.59225164, 142728.85932548, 143531.77655169,\n",
       "       130480.67910283, 129314.58032018, 231479.39823991, 135684.28669409,\n",
       "       167306.04741268, 245593.68518057,  96301.24767796, 282131.21897049,\n",
       "       145254.58969567, 121255.63499137, 158088.1021626 , 285715.83307923,\n",
       "       186615.75087666, 151740.38506857, 111950.10855831, 138347.26939628,\n",
       "       207852.01869879, 158250.84313208, 268740.11815893, 113846.93939959,\n",
       "       184327.43357018, 184372.17152801, 165449.20050192, 136316.02358917])"
      ]
     },
     "execution_count": 28,
     "metadata": {},
     "output_type": "execute_result"
    }
   ],
   "source": [
    "linear_model = LinearRegression()\n",
    "linear_model.fit(X_train, y_train)\n",
    "y_pred = linear_model.predict(X_val)\n",
    "y_pred"
   ]
  },
  {
   "cell_type": "code",
   "execution_count": 29,
   "metadata": {},
   "outputs": [
    {
     "name": "stdout",
     "output_type": "stream",
     "text": [
      "Mean Squared Error: 504314193.88323164\n",
      "Root Mean Squared Error: 22456.940884350926\n"
     ]
    }
   ],
   "source": [
    "mse = mean_squared_error(y_val, y_pred)\n",
    "print(f'Mean Squared Error: {mse}')\n",
    "# Calculate RMSE\n",
    "rmse = np.sqrt(np.mean((y_val - y_pred) ** 2))\n",
    "print(f'Root Mean Squared Error: {rmse}')"
   ]
  },
  {
   "cell_type": "code",
   "execution_count": 30,
   "metadata": {},
   "outputs": [
    {
     "data": {
      "text/plain": [
       "999     206000.0\n",
       "1145    149000.0\n",
       "535     107500.0\n",
       "600     275000.0\n",
       "948     192500.0\n",
       "          ...   \n",
       "396     123000.0\n",
       "433     181000.0\n",
       "910     154300.0\n",
       "1067    167900.0\n",
       "863     132500.0\n",
       "Name: SalePrice, Length: 340, dtype: float64"
      ]
     },
     "execution_count": 30,
     "metadata": {},
     "output_type": "execute_result"
    }
   ],
   "source": [
    "y_val"
   ]
  },
  {
   "cell_type": "code",
   "execution_count": 31,
   "metadata": {},
   "outputs": [
    {
     "data": {
      "text/plain": [
       "187359.59252240806"
      ]
     },
     "execution_count": 31,
     "metadata": {},
     "output_type": "execute_result"
    }
   ],
   "source": [
    "y_pred[0]"
   ]
  },
  {
   "cell_type": "code",
   "execution_count": 32,
   "metadata": {},
   "outputs": [
    {
     "data": {
      "text/plain": [
       "13.305860766569447"
      ]
     },
     "execution_count": 32,
     "metadata": {},
     "output_type": "execute_result"
    }
   ],
   "source": [
    "# 13% in average misses the price\n",
    "22456.94088435092 / 168774.807420 * 100"
   ]
  },
  {
   "cell_type": "code",
   "execution_count": null,
   "metadata": {},
   "outputs": [],
   "source": []
  },
  {
   "cell_type": "code",
   "execution_count": 36,
   "metadata": {},
   "outputs": [
    {
     "name": "stdout",
     "output_type": "stream",
     "text": [
      "Mean Squared Error (Ridge): 470483852.96764004\n",
      "Square Root Mean Squared Error: 21690.63975468774\n"
     ]
    }
   ],
   "source": [
    "from sklearn.linear_model import Ridge\n",
    "\n",
    "ridge_model = Ridge(alpha=7)\n",
    "ridge_model.fit(X_train, y_train)\n",
    "\n",
    "y_pred_ridge = ridge_model.predict(X_val)\n",
    "\n",
    "mse_ridge = mean_squared_error(y_val, y_pred_ridge)\n",
    "print(f'Mean Squared Error (Ridge): {mse_ridge}')\n",
    "\n",
    "rmse_ridge = np.sqrt(np.mean((y_val - y_pred_ridge) ** 2))\n",
    "print(f'Square Root Mean Squared Error: {rmse_ridge}')"
   ]
  },
  {
   "cell_type": "code",
   "execution_count": 34,
   "metadata": {},
   "outputs": [
    {
     "name": "stdout",
     "output_type": "stream",
     "text": [
      "Mean squared error (lasso): 504275531.0881351\n",
      "Square Root Mean Squared Error: 22456.080047241892\n"
     ]
    }
   ],
   "source": [
    "from sklearn.linear_model import Lasso\n",
    "\n",
    "lasso_model = Lasso(alpha=0.01)\n",
    "lasso_model.fit(X_train, y_train)\n",
    "\n",
    "y_pred_lasso = lasso_model.predict(X_val)\n",
    "\n",
    "mse_lasso = mean_squared_error(y_val, y_pred_lasso)\n",
    "print(f'Mean squared error (lasso): {mse_lasso}')\n",
    "\n",
    "rmse_lasso = np.sqrt(np.mean((y_val - y_pred_lasso) ** 2))\n",
    "print(f'Square Root Mean Squared Error: {rmse_lasso}')"
   ]
  },
  {
   "cell_type": "code",
   "execution_count": 35,
   "metadata": {},
   "outputs": [],
   "source": [
    "# Doing the same preproccessing steps on test dataset and creating a submission file\n",
    "\n",
    "relevant_columns_test = ['OverallQual',\n",
    " 'GrLivArea',\n",
    " 'TotalBsmtSF',\n",
    " '1stFlrSF',\n",
    " '2ndFlrSF',\n",
    " 'GarageArea',\n",
    " 'YearBuilt',\n",
    " 'YearRemodAdd',\n",
    " 'Neighborhood',\n",
    " 'Condition1',\n",
    " 'LotArea',\n",
    " 'HeatingQC',\n",
    " 'TotRmsAbvGrd',\n",
    " 'FullBath',\n",
    " 'HalfBath',\n",
    " 'BedroomAbvGr',\n",
    " 'SaleType',\n",
    " 'SaleCondition',\n",
    " 'LotFrontage',\n",
    " 'MasVnrArea',\n",
    " 'MoSold',\n",
    " 'YrSold',]\n",
    "\n",
    "numerical_columns = [\n",
    "    'GrLivArea', 'TotalBsmtSF', '1stFlrSF', '2ndFlrSF',\n",
    "  'GarageArea', 'LotArea', 'LotFrontage', 'MasVnrArea'\n",
    "]\n",
    "\n",
    "test_data = pd.read_csv(\"test.csv\")\n",
    "test_data = test_data.set_index(\"Id\")\n",
    "test_data.drop(columns=excessive_na_cols, inplace=True)\n",
    "test_data.drop(columns=unneccessary_cols, inplace=True)\n",
    "num_cols = test_data.select_dtypes(include=['number']).columns\n",
    "test_data[num_cols] = mean_imputer.fit_transform(test_data[num_cols])\n",
    "categorical_cols = test_data.select_dtypes(include=['object']).columns\n",
    "test_data[categorical_cols] = mode_imputer.fit_transform(test_data[categorical_cols])\n",
    "test_data = test_data[relevant_columns_test]\n",
    "for column in numerical_columns:\n",
    "    test_data = handle_outliers(test_data, column, method='cap') # cap\n",
    "test_data = test_data.drop(columns=weak_features)\n",
    "test_data = pd.get_dummies(test_data, columns=[\n",
    "    'Neighborhood', 'Condition1', 'SaleType', 'SaleCondition', 'HeatingQC'\n",
    "], drop_first=True)\n",
    "test_data = test_data[X_train.columns]\n",
    "test_data[numerical_features] = scaler.fit_transform(test_data[numerical_features])\n",
    "y_test_pred = ridge_model.predict(test_data)\n",
    "# Prepare submission DataFrame\n",
    "submission = pd.DataFrame({\n",
    "    'Id': test_data.index,       \n",
    "    'SalePrice': y_test_pred     \n",
    "})\n",
    "submission.to_csv(\"results.csv\", index=False)"
   ]
  }
 ],
 "metadata": {
  "kernelspec": {
   "display_name": "Python 3.12",
   "language": "python",
   "name": "python312"
  },
  "language_info": {
   "codemirror_mode": {
    "name": "ipython",
    "version": 3
   },
   "file_extension": ".py",
   "mimetype": "text/x-python",
   "name": "python",
   "nbconvert_exporter": "python",
   "pygments_lexer": "ipython3",
   "version": "3.9.7"
  }
 },
 "nbformat": 4,
 "nbformat_minor": 2
}
